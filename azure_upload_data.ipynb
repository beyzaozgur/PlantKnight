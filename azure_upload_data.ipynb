{
 "cells": [
  {
   "cell_type": "code",
   "execution_count": 1,
   "id": "8e4bf23d",
   "metadata": {
    "execution": {
     "iopub.execute_input": "2023-05-12T01:17:05.151627Z",
     "iopub.status.busy": "2023-05-12T01:17:05.150869Z",
     "iopub.status.idle": "2023-05-12T01:17:21.957318Z",
     "shell.execute_reply": "2023-05-12T01:17:21.955744Z"
    },
    "papermill": {
     "duration": 16.817787,
     "end_time": "2023-05-12T01:17:21.960968",
     "exception": false,
     "start_time": "2023-05-12T01:17:05.143181",
     "status": "completed"
    },
    "tags": []
   },
   "outputs": [
    {
     "name": "stdout",
     "output_type": "stream",
     "text": [
      "Collecting azure-cognitiveservices-vision-customvision\r\n",
      "  Downloading azure_cognitiveservices_vision_customvision-3.1.0-py2.py3-none-any.whl (62 kB)\r\n",
      "\u001b[2K     \u001b[90m━━━━━━━━━━━━━━━━━━━━━━━━━━━━━━━━━━━━━━━━\u001b[0m \u001b[32m62.0/62.0 kB\u001b[0m \u001b[31m4.3 MB/s\u001b[0m eta \u001b[36m0:00:00\u001b[0m\r\n",
      "\u001b[?25hCollecting azure-common~=1.1\r\n",
      "  Downloading azure_common-1.1.28-py2.py3-none-any.whl (14 kB)\r\n",
      "Collecting msrest>=0.5.0\r\n",
      "  Downloading msrest-0.7.1-py3-none-any.whl (85 kB)\r\n",
      "\u001b[2K     \u001b[90m━━━━━━━━━━━━━━━━━━━━━━━━━━━━━━━━━━━━━━━━\u001b[0m \u001b[32m85.4/85.4 kB\u001b[0m \u001b[31m6.6 MB/s\u001b[0m eta \u001b[36m0:00:00\u001b[0m\r\n",
      "\u001b[?25hRequirement already satisfied: certifi>=2017.4.17 in /opt/conda/lib/python3.7/site-packages (from msrest>=0.5.0->azure-cognitiveservices-vision-customvision) (2022.12.7)\r\n",
      "Collecting isodate>=0.6.0\r\n",
      "  Downloading isodate-0.6.1-py2.py3-none-any.whl (41 kB)\r\n",
      "\u001b[2K     \u001b[90m━━━━━━━━━━━━━━━━━━━━━━━━━━━━━━━━━━━━━━━━\u001b[0m \u001b[32m41.7/41.7 kB\u001b[0m \u001b[31m2.9 MB/s\u001b[0m eta \u001b[36m0:00:00\u001b[0m\r\n",
      "\u001b[?25hRequirement already satisfied: requests-oauthlib>=0.5.0 in /opt/conda/lib/python3.7/site-packages (from msrest>=0.5.0->azure-cognitiveservices-vision-customvision) (1.3.1)\r\n",
      "Collecting azure-core>=1.24.0\r\n",
      "  Downloading azure_core-1.26.4-py3-none-any.whl (173 kB)\r\n",
      "\u001b[2K     \u001b[90m━━━━━━━━━━━━━━━━━━━━━━━━━━━━━━━━━━━━━━\u001b[0m \u001b[32m173.9/173.9 kB\u001b[0m \u001b[31m13.1 MB/s\u001b[0m eta \u001b[36m0:00:00\u001b[0m\r\n",
      "\u001b[?25hRequirement already satisfied: requests~=2.16 in /opt/conda/lib/python3.7/site-packages (from msrest>=0.5.0->azure-cognitiveservices-vision-customvision) (2.28.2)\r\n",
      "Requirement already satisfied: six>=1.11.0 in /opt/conda/lib/python3.7/site-packages (from azure-core>=1.24.0->msrest>=0.5.0->azure-cognitiveservices-vision-customvision) (1.16.0)\r\n",
      "Requirement already satisfied: typing-extensions>=4.3.0 in /opt/conda/lib/python3.7/site-packages (from azure-core>=1.24.0->msrest>=0.5.0->azure-cognitiveservices-vision-customvision) (4.4.0)\r\n",
      "Requirement already satisfied: urllib3<1.27,>=1.21.1 in /opt/conda/lib/python3.7/site-packages (from requests~=2.16->msrest>=0.5.0->azure-cognitiveservices-vision-customvision) (1.26.14)\r\n",
      "Requirement already satisfied: idna<4,>=2.5 in /opt/conda/lib/python3.7/site-packages (from requests~=2.16->msrest>=0.5.0->azure-cognitiveservices-vision-customvision) (3.4)\r\n",
      "Requirement already satisfied: charset-normalizer<4,>=2 in /opt/conda/lib/python3.7/site-packages (from requests~=2.16->msrest>=0.5.0->azure-cognitiveservices-vision-customvision) (2.1.1)\r\n",
      "Requirement already satisfied: oauthlib>=3.0.0 in /opt/conda/lib/python3.7/site-packages (from requests-oauthlib>=0.5.0->msrest>=0.5.0->azure-cognitiveservices-vision-customvision) (3.2.2)\r\n",
      "Installing collected packages: azure-common, isodate, azure-core, msrest, azure-cognitiveservices-vision-customvision\r\n",
      "Successfully installed azure-cognitiveservices-vision-customvision-3.1.0 azure-common-1.1.28 azure-core-1.26.4 isodate-0.6.1 msrest-0.7.1\r\n",
      "\u001b[33mWARNING: Running pip as the 'root' user can result in broken permissions and conflicting behaviour with the system package manager. It is recommended to use a virtual environment instead: https://pip.pypa.io/warnings/venv\u001b[0m\u001b[33m\r\n",
      "\u001b[0m"
     ]
    }
   ],
   "source": [
    "!pip install azure-cognitiveservices-vision-customvision"
   ]
  },
  {
   "cell_type": "code",
   "execution_count": 2,
   "id": "d0687718",
   "metadata": {
    "execution": {
     "iopub.execute_input": "2023-05-12T01:17:21.975626Z",
     "iopub.status.busy": "2023-05-12T01:17:21.975145Z",
     "iopub.status.idle": "2023-05-12T01:17:21.980962Z",
     "shell.execute_reply": "2023-05-12T01:17:21.979567Z"
    },
    "papermill": {
     "duration": 0.016493,
     "end_time": "2023-05-12T01:17:21.983661",
     "exception": false,
     "start_time": "2023-05-12T01:17:21.967168",
     "status": "completed"
    },
    "tags": []
   },
   "outputs": [],
   "source": [
    "ENDPOINT = \"https://westeurope.api.cognitive.microsoft.com/\"\n",
    "training_key = \"cf5b66245476417180cfe7052794c0c4\""
   ]
  },
  {
   "cell_type": "code",
   "execution_count": 3,
   "id": "48035771",
   "metadata": {
    "_cell_guid": "b1076dfc-b9ad-4769-8c92-a6c4dae69d19",
    "_uuid": "8f2839f25d086af736a60e9eeb907d3b93b6e0e5",
    "execution": {
     "iopub.execute_input": "2023-05-12T01:17:21.997509Z",
     "iopub.status.busy": "2023-05-12T01:17:21.996556Z",
     "iopub.status.idle": "2023-05-12T01:17:22.092989Z",
     "shell.execute_reply": "2023-05-12T01:17:22.091547Z"
    },
    "papermill": {
     "duration": 0.107235,
     "end_time": "2023-05-12T01:17:22.096333",
     "exception": false,
     "start_time": "2023-05-12T01:17:21.989098",
     "status": "completed"
    },
    "tags": []
   },
   "outputs": [],
   "source": [
    "from azure.cognitiveservices.vision.customvision.training import CustomVisionTrainingClient\n",
    "from azure.cognitiveservices.vision.customvision.prediction import CustomVisionPredictionClient\n",
    "from azure.cognitiveservices.vision.customvision.training.models import ImageFileCreateBatch, ImageFileCreateEntry, Region\n",
    "from msrest.authentication import ApiKeyCredentials\n",
    "import os, time, uuid\n",
    "from math import ceil\n",
    "import numpy as np # linear algebra\n",
    "import pandas as pd # data processing, CSV file I/O (e.g. pd.read_csv)\n",
    "import random\n",
    "import os\n"
   ]
  },
  {
   "cell_type": "code",
   "execution_count": 4,
   "id": "ff34a41e",
   "metadata": {
    "execution": {
     "iopub.execute_input": "2023-05-12T01:17:22.109343Z",
     "iopub.status.busy": "2023-05-12T01:17:22.108936Z",
     "iopub.status.idle": "2023-05-12T01:17:22.123196Z",
     "shell.execute_reply": "2023-05-12T01:17:22.121607Z"
    },
    "papermill": {
     "duration": 0.024388,
     "end_time": "2023-05-12T01:17:22.126196",
     "exception": false,
     "start_time": "2023-05-12T01:17:22.101808",
     "status": "completed"
    },
    "tags": []
   },
   "outputs": [],
   "source": [
    "credentials = ApiKeyCredentials(in_headers={\"Training-key\": training_key})\n",
    "trainer = CustomVisionTrainingClient(ENDPOINT, credentials)"
   ]
  },
  {
   "cell_type": "code",
   "execution_count": 5,
   "id": "9d0109b1",
   "metadata": {
    "execution": {
     "iopub.execute_input": "2023-05-12T01:17:22.139244Z",
     "iopub.status.busy": "2023-05-12T01:17:22.138833Z",
     "iopub.status.idle": "2023-05-12T01:23:55.936711Z",
     "shell.execute_reply": "2023-05-12T01:23:55.935423Z"
    },
    "papermill": {
     "duration": 393.808857,
     "end_time": "2023-05-12T01:23:55.940598",
     "exception": false,
     "start_time": "2023-05-12T01:17:22.131741",
     "status": "completed"
    },
    "tags": []
   },
   "outputs": [],
   "source": [
    "path_dict = dict()\n",
    "SKIP_TAGS = [\"New Plant Diseases Dataset(Augmented)\", \"valid\", \"train\", \"Blueberry___healthy\", \"Orange___Haunglongbing_(Citrus_greening)\", \"Raspberry___healthy\", \"Soybean___healthy\"]\n",
    "for dirname, _, filenames in os.walk('/kaggle/input/new-plant-diseases-dataset/New Plant Diseases Dataset(Augmented)/New Plant Diseases Dataset(Augmented)/train'):\n",
    "    tag_name = dirname.split(\"/\")[-1]\n",
    "    if tag_name in SKIP_TAGS:\n",
    "        continue\n",
    "    if tag_name not in path_dict:\n",
    "        path_dict[tag_name] = []\n",
    "    for file_name in filenames:\n",
    "        with open(os.path.join(dirname, file_name), \"rb\") as image_contents:\n",
    "            path_dict[tag_name].append(image_contents.read())"
   ]
  },
  {
   "cell_type": "code",
   "execution_count": 6,
   "id": "18ae329f",
   "metadata": {
    "execution": {
     "iopub.execute_input": "2023-05-12T01:23:55.955493Z",
     "iopub.status.busy": "2023-05-12T01:23:55.954526Z",
     "iopub.status.idle": "2023-05-12T02:06:45.644115Z",
     "shell.execute_reply": "2023-05-12T02:06:45.642287Z"
    },
    "papermill": {
     "duration": 2569.700855,
     "end_time": "2023-05-12T02:06:45.647870",
     "exception": false,
     "start_time": "2023-05-12T01:23:55.947015",
     "status": "completed"
    },
    "tags": []
   },
   "outputs": [],
   "source": [
    "for tag in path_dict.keys():\n",
    "    tag_size = len(path_dict[tag]) // 33\n",
    "    project = trainer.create_project(tag)\n",
    "    image_list = []\n",
    "    tag_obj = trainer.create_tag(project.id, tag)\n",
    "    for img in path_dict[tag]:\n",
    "        image_list.append(ImageFileCreateEntry(name=uuid.uuid4(), contents=img, tag_ids=[tag_obj.id]))\n",
    "    tag_list = [tg for tg in path_dict.keys() if tg != tag]\n",
    "    other_tag_obj = trainer.create_tag(project.id, \"other\")\n",
    "    for other_tag in tag_list:\n",
    "        randomly_selected = random.sample(path_dict[other_tag], tag_size)\n",
    "        image_list.extend([ImageFileCreateEntry(name=uuid.uuid4(), contents=img, tag_ids=[other_tag_obj.id]) for img in randomly_selected])\n",
    "    MAX_BATCH_SIZE = 64\n",
    "    num_batches = ceil(len(image_list) / MAX_BATCH_SIZE)\n",
    "    for i in range(num_batches):\n",
    "        start_index = i * MAX_BATCH_SIZE\n",
    "        end_index = min((i + 1) * MAX_BATCH_SIZE, len(image_list))\n",
    "        batch_images = image_list[start_index:end_index]\n",
    "        trainer.create_images_from_files(project.id, ImageFileCreateBatch(images=batch_images))"
   ]
  },
  {
   "cell_type": "code",
   "execution_count": 7,
   "id": "f7843bcb",
   "metadata": {
    "execution": {
     "iopub.execute_input": "2023-05-12T02:06:45.661928Z",
     "iopub.status.busy": "2023-05-12T02:06:45.660900Z",
     "iopub.status.idle": "2023-05-12T02:08:17.223523Z",
     "shell.execute_reply": "2023-05-12T02:08:17.221880Z"
    },
    "papermill": {
     "duration": 91.573346,
     "end_time": "2023-05-12T02:08:17.227123",
     "exception": false,
     "start_time": "2023-05-12T02:06:45.653777",
     "status": "completed"
    },
    "tags": []
   },
   "outputs": [],
   "source": [
    "path_dict = dict()\n",
    "SKIP_TAGS = [\"New Plant Diseases Dataset(Augmented)\", \"valid\", \"train\", \"Blueberry___healthy\", \"Orange___Haunglongbing_(Citrus_greening)\", \"Raspberry___healthy\", \"Soybean___healthy\"]\n",
    "for dirname, _, filenames in os.walk('/kaggle/input/new-plant-diseases-dataset/New Plant Diseases Dataset(Augmented)/New Plant Diseases Dataset(Augmented)/valid'):\n",
    "    tag_name = dirname.split(\"/\")[-1]\n",
    "    if tag_name in SKIP_TAGS:\n",
    "        continue\n",
    "    if tag_name not in path_dict:\n",
    "        path_dict[tag_name] = []\n",
    "    for file_name in filenames:\n",
    "        with open(os.path.join(dirname, file_name), \"rb\") as image_contents:\n",
    "            path_dict[tag_name].append(image_contents.read())"
   ]
  },
  {
   "cell_type": "code",
   "execution_count": 8,
   "id": "863f78ed",
   "metadata": {
    "execution": {
     "iopub.execute_input": "2023-05-12T02:08:17.241250Z",
     "iopub.status.busy": "2023-05-12T02:08:17.240160Z",
     "iopub.status.idle": "2023-05-12T02:18:31.943958Z",
     "shell.execute_reply": "2023-05-12T02:18:31.942494Z"
    },
    "papermill": {
     "duration": 614.715,
     "end_time": "2023-05-12T02:18:31.947841",
     "exception": false,
     "start_time": "2023-05-12T02:08:17.232841",
     "status": "completed"
    },
    "tags": []
   },
   "outputs": [],
   "source": [
    "for project in trainer.get_projects():\n",
    "    tags = trainer.get_tags(project.id)\n",
    "    tag_obj = tags[0] if tags[0].name != \"other\" else tags[1]\n",
    "    tag_size = len(path_dict[tag_obj.name]) // 33\n",
    "    image_list = []\n",
    "    for img in path_dict[tag_obj.name]:\n",
    "        image_list.append(ImageFileCreateEntry(name=uuid.uuid4(), contents=img, tag_ids=[tag_obj.id]))\n",
    "    tag_list = [tg for tg in path_dict.keys() if tg != tag]\n",
    "    other_tag_obj = tags[0] if tags[0].name == \"other\" else tags[1]\n",
    "    for other_tag in tag_list:\n",
    "        randomly_selected = random.sample(path_dict[other_tag], tag_size)\n",
    "        image_list.extend([ImageFileCreateEntry(name=uuid.uuid4(), contents=img, tag_ids=[other_tag_obj.id]) for img in randomly_selected])\n",
    "    MAX_BATCH_SIZE = 64\n",
    "    num_batches = ceil(len(image_list) / MAX_BATCH_SIZE)\n",
    "    for i in range(num_batches):\n",
    "        start_index = i * MAX_BATCH_SIZE\n",
    "        end_index = min((i + 1) * MAX_BATCH_SIZE, len(image_list))\n",
    "        batch_images = image_list[start_index:end_index]\n",
    "        trainer.create_images_from_files(project.id, ImageFileCreateBatch(images=batch_images))"
   ]
  }
 ],
 "metadata": {
  "kernelspec": {
   "display_name": "Python 3",
   "language": "python",
   "name": "python3"
  },
  "language_info": {
   "codemirror_mode": {
    "name": "ipython",
    "version": 3
   },
   "file_extension": ".py",
   "mimetype": "text/x-python",
   "name": "python",
   "nbconvert_exporter": "python",
   "pygments_lexer": "ipython3",
   "version": "3.7.12"
  },
  "papermill": {
   "default_parameters": {},
   "duration": 3702.531349,
   "end_time": "2023-05-12T02:18:32.891475",
   "environment_variables": {},
   "exception": null,
   "input_path": "__notebook__.ipynb",
   "output_path": "__notebook__.ipynb",
   "parameters": {},
   "start_time": "2023-05-12T01:16:50.360126",
   "version": "2.4.0"
  }
 },
 "nbformat": 4,
 "nbformat_minor": 5
}
